{
 "cells": [
  {
   "cell_type": "markdown",
   "metadata": {},
   "source": [
    "# Notebook to analyse measured concentrations from MARGA\n",
    "Read data from Excel files into Pandas dataframes"
   ]
  },
  {
   "cell_type": "code",
   "execution_count": null,
   "metadata": {},
   "outputs": [],
   "source": [
    "# Import modules\n",
    "import pandas as pd\n",
    "import datetime as dt\n",
    "import matplotlib.pyplot as plt\n",
    "import numpy as np\n",
    "%matplotlib inline"
   ]
  },
  {
   "cell_type": "code",
   "execution_count": null,
   "metadata": {},
   "outputs": [],
   "source": [
    "# Set some parameters\n",
    "datadir = '/data/users/bdrummon/obs/nitrate_measurements_JanMay2020/'\n",
    "auchencorth_filename = '2020filtered_Metoffice.xlsx'\n",
    "chilbolton_filename1 = 'Chilbolton_JanMarch2020.csv'\n",
    "chilbolton_filename2 = 'Prov_CHBO_MARGA_April-May_2020.xlsx'"
   ]
  },
  {
   "cell_type": "markdown",
   "metadata": {},
   "source": [
    "### Function to load Auchencorth Moss data\n",
    "A function to load data for the Auchencorth Moss Excel file, returns a dataframe"
   ]
  },
  {
   "cell_type": "code",
   "execution_count": null,
   "metadata": {},
   "outputs": [],
   "source": [
    "def load_auchencorth_moss():\n",
    "    \n",
    "    mapper = {\n",
    "        'Time_date' : 'time',\n",
    "        'NH4_PM2_5' : 'PM2p5_NH4',\n",
    "        'NO3_PM2_5' : 'PM2p5_NO3',\n",
    "        'SO4_PM2_5' : 'PM2p5_SO4'\n",
    "    }\n",
    "    \n",
    "    # Load file into dataframe\n",
    "    df = pd.read_excel(datadir+auchencorth_filename, sheet_name='2020_filtered')\n",
    "    \n",
    "    # Get subset of columns\n",
    "    df = df[['Time_date', 'NH4_PM2_5', 'NO3_PM2_5', 'SO4_PM2_5', 'NH3', 'HNO3', 'SO2']]\n",
    "    \n",
    "    # Rename columns\n",
    "    df = df.rename(columns=mapper)\n",
    "    \n",
    "    # Drop the units row\n",
    "    df = df.drop(0)\n",
    "    \n",
    "    # Convert string to datetime\n",
    "    df['time'] = pd.to_datetime(df['time'])\n",
    "    \n",
    "    # Make datetime the index\n",
    "    df = df.set_index('time')\n",
    "\n",
    "    # Convert to float\n",
    "    df = df.astype(float)\n",
    "    \n",
    "    return df"
   ]
  },
  {
   "cell_type": "markdown",
   "metadata": {},
   "source": [
    "### Functions to load Chilbolton data\n",
    "- The Chilbolton data is split over two files - one downloaded from UK Air and one obtained directly from CEH (unratified data) - these are in different formats so we read them separately and then combine"
   ]
  },
  {
   "cell_type": "code",
   "execution_count": null,
   "metadata": {},
   "outputs": [],
   "source": [
    "# Function to convert to datetime \n",
    "# We have to have a special way to handle midnight, which in the data is marked as 24:00:00\n",
    "# Pandas can only handle hours 0 -> 23 so we have to convert 24:00:00 of day D to 00:00:00 of day D+1\n",
    "def my_to_datetime(date_str):\n",
    "    if date_str[10:12] != '24':\n",
    "        return pd.to_datetime(date_str, format='%Y-%m-%d%H:%M:%S')\n",
    "\n",
    "    date_str = date_str[0:10] + '00' + date_str[12:]\n",
    "    return pd.to_datetime(date_str, format='%Y-%m-%d%H:%M:%S') + \\\n",
    "           dt.timedelta(days=1)"
   ]
  },
  {
   "cell_type": "code",
   "execution_count": null,
   "metadata": {},
   "outputs": [],
   "source": [
    "def load_chilbolton_observatory1():\n",
    "    \n",
    "    mapper = {\n",
    "        'ammonium in PM2.5' : 'PM2p5_NH4',\n",
    "        'nitrate in PM2.5' : 'PM2p5_NO3',\n",
    "        'sulphate in PM2.5' : 'PM2p5_SO4',\n",
    "        'gaseous nitric acid' : 'HNO3',\n",
    "        'gaseous ammonia' : 'NH3',\n",
    "        'gaseous sulphur dioxide' : 'SO2'\n",
    "    }\n",
    "    \n",
    "    # Load file into dataframe\n",
    "    df = pd.read_csv(datadir+chilbolton_filename1, header=4, skipfooter=1)\n",
    "    \n",
    "    # Get subset of columns and rename\n",
    "    df = df[['Date', 'Time']+list(mapper.keys())].rename(columns=mapper)\n",
    "        \n",
    "    # Combine date and time and convert to datetime\n",
    "    df['time'] = df['Date'] + df['Time']\n",
    "    df['time'] = df.time.apply(my_to_datetime)\n",
    "    df = df.drop(columns=['Date', 'Time'])\n",
    "    \n",
    "    # Make time the index\n",
    "    df = df.set_index('time')\n",
    "    \n",
    "    # Replace missing data with NaN\n",
    "    df = df.replace('No data', np.nan)\n",
    "    df = df.dropna()\n",
    "    \n",
    "    # Drop the last row (as this time is repeated in the April-May dataset)\n",
    "    df = df[:-1]\n",
    "    \n",
    "    # Convert to float\n",
    "    df = df.astype(float)\n",
    "    \n",
    "    return df"
   ]
  },
  {
   "cell_type": "code",
   "execution_count": null,
   "metadata": {},
   "outputs": [],
   "source": [
    "def load_chilbolton_observatory2():\n",
    "    \n",
    "    mapper = {\n",
    "        'm_NH4_2.5' : 'PM2p5_NH4',\n",
    "        'm_NO3_2.5' : 'PM2p5_NO3',\n",
    "        'm_SO4_2.5' : 'PM2p5_SO4',\n",
    "        'm_HNO3_g' : 'HNO3',\n",
    "        'm_NH3_g' : 'NH3',\n",
    "        'm_SO2_g' : 'SO2'\n",
    "    }\n",
    "    \n",
    "    # Load file into dataframe\n",
    "    dfin = pd.read_excel(datadir+chilbolton_filename2, sheet_name='April_May_2020')\n",
    "    \n",
    "    # Create new dataframe\n",
    "    df = pd.DataFrame()\n",
    "    \n",
    "    # Loop over requested species\n",
    "    for species in mapper:\n",
    "    \n",
    "        # Get measurement times and measured concentrations for current species\n",
    "        dfsp = dfin[dfin['parameter_id'] == species]\n",
    "        dfsp = dfsp[['measurement start date', 'measurement start time', 'measurement']]\n",
    "        \n",
    "        # Combine the time and date columns and convert to datetime format\n",
    "        dfsp['time'] = dfsp['measurement start date'].astype(str) + dfsp['measurement start time'].astype(str)\n",
    "        dfsp['time'] = pd.to_datetime(dfsp['time'], format='%Y-%m-%d%H:%M:%S')\n",
    "        \n",
    "        # Drop redundant columns\n",
    "        dfsp = dfsp.drop(columns=['measurement start date', 'measurement start time'])\n",
    "        \n",
    "        # Make time the index\n",
    "        dfsp = dfsp.set_index('time')\n",
    "        \n",
    "        # Add new column to dataframe \n",
    "        df[mapper[species]] = dfsp['measurement']\n",
    "        \n",
    "        # Replace missing value flags (-999 in this dataset) with NaN\n",
    "        mask = np.isclose(df[mapper[species]], -999.)\n",
    "        df.loc[mask, mapper[species]] = np.nan\n",
    "  \n",
    "    return df"
   ]
  },
  {
   "cell_type": "code",
   "execution_count": null,
   "metadata": {},
   "outputs": [],
   "source": [
    "def load_chilbolton_observatory():\n",
    "    \n",
    "    # Load January to March data\n",
    "    df = load_chilbolton_observatory1()\n",
    "    \n",
    "    # Load April to May data\n",
    "    df2 = load_chilbolton_observatory2()\n",
    "    \n",
    "    # Combine for a single timeseries\n",
    "    df = df.append(df2)\n",
    "    \n",
    "    return df"
   ]
  },
  {
   "cell_type": "markdown",
   "metadata": {},
   "source": [
    "# Load Chilbolton and Auchencorth data and calculate the gas ratio"
   ]
  },
  {
   "cell_type": "code",
   "execution_count": null,
   "metadata": {},
   "outputs": [],
   "source": [
    "# Load the data for the two sites using the functions defined above.\n",
    "chil_df = load_chilbolton_observatory()\n",
    "auch_df = load_auchencorth_moss()\n",
    "\n",
    "# Option to average the data. e.g. 'H' hourly (raw data timestep), 'D' daily, 'W' weekly.\n",
    "chil_df = chil_df.resample('H').mean()\n",
    "auch_df = auch_df.resample('H').mean()\n",
    "\n",
    "# Option to filter the data by a start and end date (e.g. filtering for April to match the model simulations)\n",
    "#start_date = pd.to_datetime('2020-04-0100:00:00',format='%Y-%m-%d%H:%M:%S')\n",
    "#end_date   = pd.to_datetime('2020-05-0100:00:00',format='%Y-%m-%d%H:%M:%S')\n",
    "#chil_df = chil_df[chil_df.index >= start_date]\n",
    "#chil_df = chil_df[chil_df.index < end_date]\n",
    "#auch_df = auch_df[auch_df.index >= start_date]\n",
    "#auch_df = auch_df[auch_df.index < end_date]"
   ]
  },
  {
   "cell_type": "markdown",
   "metadata": {},
   "source": [
    "# Check for any negative values in the data."
   ]
  },
  {
   "cell_type": "code",
   "execution_count": null,
   "metadata": {},
   "outputs": [],
   "source": [
    "# Check for any negative values in the Chilbolton data.\n",
    "print('Checking Chilbolton Observatory Data')\n",
    "if np.nanmin(chil_df['PM2p5_SO4']) < 0 :\n",
    "    print('   - Negative values in PM2p5_SO4')\n",
    "if np.nanmin(chil_df['PM2p5_NO3']) < 0 :\n",
    "    print('   - Negative values in PM2p5_NO3')\n",
    "if np.nanmin(chil_df['PM2p5_NH4']) < 0 :\n",
    "    print('   - Negative values in PM2p5_NH4')\n",
    "if np.nanmin(chil_df['NH3']) < 0 :\n",
    "    print('   - Negative values in NH3')\n",
    "if np.nanmin(chil_df['HNO3']) < 0 :\n",
    "    print('   - Negative values in HNO3')\n",
    "if np.nanmin(chil_df['SO2']) < 0 :\n",
    "    print('   - Negative values in SO2')\n",
    "\n",
    "# Check for any negative values in the Auchencorth Moss data.\n",
    "print('Checking Auchencorth Moss Data')\n",
    "if np.nanmin(auch_df['PM2p5_SO4']) < 0 :\n",
    "    print('   - Negative values in PM2p5_SO4')\n",
    "if np.nanmin(auch_df['PM2p5_NO3']) < 0 :\n",
    "    print('   - Negative values in PM2p5_NO3')\n",
    "if np.nanmin(auch_df['PM2p5_NH4']) < 0 :\n",
    "    print('   - Negative values in PM2p5_NH4')\n",
    "if np.nanmin(auch_df['NH3']) < 0 :\n",
    "    print('   - Negative values in NH3')\n",
    "if np.nanmin(auch_df['HNO3']) < 0 :\n",
    "    print('   - Negative values in HNO3')\n",
    "if np.nanmin(auch_df['SO2']) < 0 :\n",
    "    print('   - Negative values in SO2')"
   ]
  },
  {
   "cell_type": "markdown",
   "metadata": {},
   "source": [
    "# Plot timeseries of the Chilbolton data."
   ]
  },
  {
   "cell_type": "code",
   "execution_count": null,
   "metadata": {},
   "outputs": [],
   "source": [
    "# Plot simple timeseries of the Chilbolton data.\n",
    "chil_df.plot(y='PM2p5_SO4',title='Sulphate')\n",
    "chil_df.plot(y='PM2p5_NO3',title='Nitrate')\n",
    "chil_df.plot(y='PM2p5_NH4',title='Ammonium')\n",
    "chil_df.plot(y='NH3',title='Ammonia')\n",
    "chil_df.plot(y='HNO3',title='Nitric Acid')\n",
    "chil_df.plot(y='SO2',title='Sulphur Dioxide')"
   ]
  },
  {
   "cell_type": "markdown",
   "metadata": {},
   "source": [
    "# Plot timeseries of the Auchencorth data."
   ]
  },
  {
   "cell_type": "code",
   "execution_count": null,
   "metadata": {},
   "outputs": [],
   "source": [
    "# Plot simple timeseries of the Auchencorth data.\n",
    "auch_df.plot(y='PM2p5_SO4',title='Sulphate')\n",
    "auch_df.plot(y='PM2p5_NO3',title='Nitrate')\n",
    "auch_df.plot(y='PM2p5_NH4',title='Ammonium')\n",
    "auch_df.plot(y='NH3',title='Ammonia')\n",
    "auch_df.plot(y='HNO3',title='Nitric Acid')\n",
    "auch_df.plot(y='SO2',title='Sulphur Dioxide')"
   ]
  },
  {
   "cell_type": "markdown",
   "metadata": {},
   "source": [
    "# Calculate the gas ratio"
   ]
  },
  {
   "cell_type": "code",
   "execution_count": null,
   "metadata": {},
   "outputs": [],
   "source": [
    "# Filter the dataframes to leave only timesteps where we have data for all required species.\n",
    "chil_df = chil_df[np.isfinite(chil_df['PM2p5_NH4']) & np.isfinite(chil_df['PM2p5_SO4']) & np.isfinite(chil_df['PM2p5_NO3']) & np.isfinite(chil_df['HNO3']) & np.isfinite(chil_df['NH3'])]\n",
    "auch_df = auch_df[np.isfinite(auch_df['PM2p5_NH4']) & np.isfinite(auch_df['PM2p5_SO4']) & np.isfinite(auch_df['PM2p5_NO3']) & np.isfinite(auch_df['HNO3']) & np.isfinite(auch_df['NH3'])]\n",
    "\n",
    "# Convert the units from ug/m3 to ppb.\n",
    "STD_TEMP = 273.15\n",
    "STD_PRES = 1e5\n",
    "R_GAS = 8.314\n",
    "chil_nh3  = chil_df['NH3'] * 1e3 * ( (R_GAS * STD_TEMP) / (STD_PRES * 17.031) )\n",
    "chil_hno3 = chil_df['HNO3'] * 1e3 * ( (R_GAS * STD_TEMP) / (STD_PRES * 63.01) )\n",
    "chil_nh4  = chil_df['PM2p5_NH4'] * 1e3 * ( (R_GAS * STD_TEMP) / (STD_PRES * 18.038) )\n",
    "chil_so4  = chil_df['PM2p5_SO4'] * 1e3 * ( (R_GAS * STD_TEMP) / (STD_PRES * 96.06) )\n",
    "chil_no3  = chil_df['PM2p5_NO3'] * 1e3 * ( (R_GAS * STD_TEMP) / (STD_PRES * 62.0049) )\n",
    "chil_df['GR_ppb'] = (chil_nh3 + chil_nh4 - (2 * chil_so4)) / (chil_hno3 + chil_no3)\n",
    "auch_nh3  = auch_df['NH3'] * 1e3 * ( (R_GAS * STD_TEMP) / (STD_PRES * 17.031) )\n",
    "auch_hno3 = auch_df['HNO3'] * 1e3 * ( (R_GAS * STD_TEMP) / (STD_PRES * 63.01) )\n",
    "auch_nh4  = auch_df['PM2p5_NH4'] * 1e3 * ( (R_GAS * STD_TEMP) / (STD_PRES * 18.038) )\n",
    "auch_so4  = auch_df['PM2p5_SO4'] * 1e3 * ( (R_GAS * STD_TEMP) / (STD_PRES * 96.06) )\n",
    "auch_no3  = auch_df['PM2p5_NO3'] * 1e3 * ( (R_GAS * STD_TEMP) / (STD_PRES * 62.0049) )\n",
    "auch_df['GR_ppb'] = (auch_nh3 + auch_nh4 - (2 * auch_so4)) / (auch_hno3 + auch_no3)\n",
    "\n",
    "# Calculate the gas ratio for both sites.\n",
    "chil_df['GR_ugm3'] = (chil_df['NH3'] + chil_df['PM2p5_NH4'] - (2 * chil_df['PM2p5_SO4'])) / (chil_df['HNO3'] + chil_df['PM2p5_NO3'])\n",
    "auch_df['GR_ugm3'] = (auch_df['NH3'] + auch_df['PM2p5_NH4'] - (2 * auch_df['PM2p5_SO4'])) / (auch_df['HNO3'] + auch_df['PM2p5_NO3'])"
   ]
  },
  {
   "cell_type": "markdown",
   "metadata": {},
   "source": [
    "# Plot the gas ratio data for Chilbolton Observatory."
   ]
  },
  {
   "cell_type": "code",
   "execution_count": null,
   "metadata": {},
   "outputs": [],
   "source": [
    "# Plot the Chilbolton gas ratio data.\n",
    "chil_plot = plt.plot(chil_df.index,chil_df['GR_ppb'],lw=1,c='#1f77b4')\n",
    "chil_plot = plt.plot([chil_df.index[0],chil_df.index[-1]],[0,0],lw=1,c='#2ca02c')\n",
    "chil_plot = plt.plot([chil_df.index[0],chil_df.index[-1]],[1,1],lw=1,c='#ff7f0e')\n",
    "plt.ylim(-2,50)\n",
    "plt.title('Chilbolton Observatory')\n",
    "plt.ylabel('Gas Ratio')\n",
    "plot_directory = '/home/h01/ersmith/COVID-19/AQ_CV19_analysis/'\n",
    "plt.savefig(plot_directory+'Chilbolton_Observatory.png',dpi=150)"
   ]
  },
  {
   "cell_type": "markdown",
   "metadata": {},
   "source": [
    "# Plot the gas ratio data for Auchencorth Moss."
   ]
  },
  {
   "cell_type": "code",
   "execution_count": null,
   "metadata": {},
   "outputs": [],
   "source": [
    "# Plot the Auchencorth gas ratio data.\n",
    "auch_plot = plt.plot(auch_df.index,auch_df['GR_ppb'],lw=1,c='#1f77b4')\n",
    "auch_plot = plt.plot([auch_df.index[0],auch_df.index[-1]],[0,0],lw=1,c='#2ca02c')\n",
    "auch_plot = plt.plot([auch_df.index[0],auch_df.index[-1]],[1,1],lw=1,c='#ff7f0e')\n",
    "plt.ylim(-2,50)\n",
    "plt.title('Auchencorth Moss')\n",
    "plt.ylabel('Gas Ratio')\n",
    "plot_directory = '/home/h01/ersmith/COVID-19/AQ_CV19_analysis/'\n",
    "plt.savefig(plot_directory+'Auchencorth_Moss.png',dpi=150)"
   ]
  }
 ],
 "metadata": {
  "kernelspec": {
   "display_name": "default-current",
   "language": "python",
   "name": "default-current"
  },
  "language_info": {
   "codemirror_mode": {
    "name": "ipython",
    "version": 3
   },
   "file_extension": ".py",
   "mimetype": "text/x-python",
   "name": "python",
   "nbconvert_exporter": "python",
   "pygments_lexer": "ipython3",
   "version": "3.6.8"
  }
 },
 "nbformat": 4,
 "nbformat_minor": 2
}
