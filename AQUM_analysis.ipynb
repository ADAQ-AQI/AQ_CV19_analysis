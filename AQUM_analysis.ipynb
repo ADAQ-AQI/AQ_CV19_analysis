{
 "cells": [
  {
   "cell_type": "markdown",
   "metadata": {},
   "source": [
    "# Notebook to analyse AQUM model output for COVID-19 lockdown period\n",
    "### Import modules\n"
   ]
  },
  {
   "cell_type": "code",
   "execution_count": null,
   "metadata": {},
   "outputs": [],
   "source": [
    "import sys\n",
    "adaq_path = '/home/h01/bdrummon/code/adaq_python/trunk'\n",
    "sys.path.append(adaq_path)\n",
    "import adaqcode\n",
    "import adaqscripts\n",
    "import numpy as np\n",
    "import iris\n",
    "import matplotlib.pyplot as plt\n",
    "import os\n",
    "%matplotlib inline"
   ]
  },
  {
   "cell_type": "markdown",
   "metadata": {},
   "source": [
    "### Notebook parameters"
   ]
  },
  {
   "cell_type": "code",
   "execution_count": null,
   "metadata": {},
   "outputs": [],
   "source": [
    "# Emissions factors for each scenario\n",
    "ems_factors = [0.5, 0.3]\n",
    "# Names of the scenario\n",
    "scenarios = {'0.5x NOx' : '1c', '0.3x NOx' : '1d'}\n",
    "# Sites to plot\n",
    "sites = ['Auchencorth_Moss','Chilbolton_Observatory']\n",
    "\n",
    "chem_species = [\"NO\", \"NO2\", \"HNO3\", \"NH3\", \"PM2p5_NH4NO3\", \"PM2p5_NH42SO4\"]\n",
    "met_variables = [\"ws_10m\", \"wind_dir_10m\", \"total_precip\", \"T_1p5\", \"rh_1p5\", \"BL_depth\"]\n",
    "\n",
    "MASS_RETRIEVE = False"
   ]
  },
  {
   "cell_type": "markdown",
   "metadata": {},
   "source": [
    "### Read some input files"
   ]
  },
  {
   "cell_type": "code",
   "execution_count": null,
   "metadata": {},
   "outputs": [],
   "source": [
    "# Read ini file\n",
    "inifile = 'inifile.ini'\n",
    "ini_dict = adaqcode.inifile.Inifile(inifile)\n",
    "\n",
    "# Read sites\n",
    "si = adaqcode.sites_info.SitesInfo()\n",
    "sites_data = si.read_from_file(adaqcode.CODE_DIR+ini_dict['sites_file'], allsites=True)\n",
    "\n",
    "# Check that plot directories exist - create them if not\n",
    "for species in ini_dict['short_name_list']:\n",
    "    if not os.path.isdir(ini_dict['plot_dir']+'/'+species):\n",
    "        os.makedirs(ini_dict['plot_dir']+'/'+species)"
   ]
  },
  {
   "cell_type": "markdown",
   "metadata": {},
   "source": [
    "### Retrieve from MASS\n",
    "- Retrieve pp files from MASS using inifile parameters"
   ]
  },
  {
   "cell_type": "code",
   "execution_count": null,
   "metadata": {},
   "outputs": [],
   "source": [
    "if MASS_RETRIEVE:\n",
    "    adaqscripts.aq_mass_retrieve.mass_retrieval(inifilename=inifile)"
   ]
  },
  {
   "cell_type": "markdown",
   "metadata": {},
   "source": [
    "### Load the model data and convert units\n",
    "This can take quite a long time!!"
   ]
  },
  {
   "cell_type": "code",
   "execution_count": null,
   "metadata": {},
   "outputs": [],
   "source": [
    "md_list = adaqcode.adaq_functions.get_models(ini_dict, sites_data, surface_only=True)\n",
    "# Convert units (empty observations list)\n",
    "od, md_list = adaqcode.adaq_functions.unit_conversion(adaqcode.adaq_data.ADAQData(), md_list,\n",
    "                                            chem_units=ini_dict.get('chem_units', 'ug/m3'),\n",
    "                                            aerosol_units=ini_dict.get('aerosol_units', 'ug/m3'))"
   ]
  },
  {
   "cell_type": "markdown",
   "metadata": {},
   "source": [
    "### Functions to load emissions cubes\n",
    "Note: the files are copied so scratch from HPC"
   ]
  },
  {
   "cell_type": "code",
   "execution_count": null,
   "metadata": {},
   "outputs": [],
   "source": [
    "def load_ukca_emission():\n",
    "    cubes = iris.load('/scratch/bdrummon/qrclim.ukca.surf.NO.nc')\n",
    "\n",
    "    # Sum sectors\n",
    "    cube = sum(cubes)[3,0,:,:]\n",
    "    cube.attributes['short_name'] = 'NO Emissions'\n",
    "    cube.long_name = 'NO emission rate'\n",
    "\n",
    "    return cube"
   ]
  },
  {
   "cell_type": "code",
   "execution_count": null,
   "metadata": {},
   "outputs": [],
   "source": [
    "def load_classic_emission():\n",
    "    cubes = iris.load('/scratch/bdrummon/qrclim.sulpsurf')\n",
    "    cube = cubes.extract('tendency_of_atmosphere_mass_content_of_ammonia_expressed_as_nitrogen_due_to_emission')[0][3,:,:]\n",
    "    cube.attributes['short_name'] = 'NH3 Emissions'\n",
    "    cube.long_name = 'NH3 emission rate'\n",
    "    \n",
    "    return cube"
   ]
  },
  {
   "cell_type": "markdown",
   "metadata": {},
   "source": [
    "## Timeseries of emission sensitivity at sites\n",
    "Extract model data at selected sites, calculate the emission sensitivity factor and plot as a timeseries"
   ]
  },
  {
   "cell_type": "code",
   "execution_count": null,
   "metadata": {},
   "outputs": [],
   "source": [
    "for species in ini_dict['short_name_list']:\n",
    "    \n",
    "    if species in chem_species:\n",
    "    \n",
    "        for site in sites:\n",
    "\n",
    "            # Initialise time series\n",
    "            tsp = adaqcode.timeseries_plot.TimeSeriesPlot()\n",
    "\n",
    "            # Get control\n",
    "            md_site_ctl = md_list[0].extract(site_name=site, short_name=species, singlecube=True)\n",
    "\n",
    "            # Get experiment cube lists\n",
    "            md_site_exp = md_list[1:]\n",
    "\n",
    "            for md, ems_factor, scenario in zip(md_site_exp, ems_factors, scenarios):\n",
    "                md_site = md.extract(site_name=site, short_name=species, singlecube=True)\n",
    "                ems_factor = (md_site_ctl - md_site)/md_site_ctl/(1.-ems_factor)\n",
    "                ems_factor.units = 'no unit'\n",
    "                ems_factor.long_name = 'Emissions Sensitivity Factor'\n",
    "                ems_factor.attributes['label'] = scenario\n",
    "                tsp.add_line(ems_factor)\n",
    "\n",
    "\n",
    "            fig = tsp.plot()\n",
    "            plt.savefig(ini_dict['plot_dir']+'/'+species+'/'+site+'_emission_sensitivity_timeseries.png', dpi=300)"
   ]
  },
  {
   "cell_type": "markdown",
   "metadata": {},
   "source": [
    "## Plot timeseries of concentrations\n",
    "Extract model data at selected sites and plot as a timeseries"
   ]
  },
  {
   "cell_type": "code",
   "execution_count": null,
   "metadata": {},
   "outputs": [],
   "source": [
    "for species in ini_dict['short_name_list']:\n",
    "    \n",
    "        for site in sites:\n",
    "\n",
    "            # Initialise time series\n",
    "            tsp = adaqcode.timeseries_plot.TimeSeriesPlot()\n",
    "\n",
    "            # Get control\n",
    "            md_site_ctl = md_list[0].extract(site_name=site, short_name=species, singlecube=True)\n",
    "            tsp.add_line(md_site_ctl)\n",
    "\n",
    "            # Get experiment cube lists\n",
    "            md_site_exp = md_list[1:]\n",
    "            \n",
    "            # If chemistry species add lines for experiments\n",
    "            if species in chem_species:\n",
    "\n",
    "                for md, ems_factor, scenario in zip(md_site_exp, ems_factors, scenarios):\n",
    "                    md_site = md.extract(site_name=site, short_name=species, singlecube=True)\n",
    "                    tsp.add_line(md_site)\n",
    "\n",
    "            fig = tsp.plot()\n",
    "            plt.savefig(ini_dict['plot_dir']+'/'+species+'/'+site+'_variable_timeseries.png', dpi=300)"
   ]
  },
  {
   "cell_type": "markdown",
   "metadata": {},
   "source": [
    "## Spatial maps of emission sensitivity\n",
    "- Calculate the emission sensitivity and plot as a 2D map\n",
    "- Model concentrations are aggregated first by taking a mean over time"
   ]
  },
  {
   "cell_type": "code",
   "execution_count": null,
   "metadata": {},
   "outputs": [],
   "source": [
    "for species in ini_dict['short_name_list']:    \n",
    "\n",
    "    # Get control\n",
    "    md_ctl = md_list[0].gridded_cube_list.extract(iris.AttributeConstraint(short_name=species))[0]\n",
    "    md_ctl = md_ctl.collapsed('time', iris.analysis.MEAN)\n",
    "\n",
    "    # Get experiment cube lists\n",
    "    md_exp = md_list[1:]\n",
    "    \n",
    "    # Calculate emission sensitivity factor and modify metadata\n",
    "    for md, ems_factor, scenario in zip(md_exp, ems_factors, scenarios):\n",
    "        md_sp = md.gridded_cube_list.extract(iris.AttributeConstraint(short_name=species))[0]\n",
    "        md_sp = md_sp.collapsed('time', iris.analysis.MEAN)\n",
    "        ems_factor = (md_ctl - md_sp)/md_ctl/(1.-ems_factor)\n",
    "        ems_factor.units = 'no unit'\n",
    "        ems_factor.long_name = 'Emissions Sensitivity Factor'\n",
    "        ems_factor.attributes['short_name'] = r'$E_{ij}$'\n",
    "        ems_factor.attributes['label'] = scenario\n",
    "        \n",
    "        # Create field layer\n",
    "        fl = adaqcode.field_layer.FieldLayer(ems_factor)\n",
    "        if species=='NH3' or species == 'PM2p5_NH42SO4':\n",
    "            levels = np.arange(-2., 0.5, 0.25)\n",
    "            cmap = 'Blues_r'\n",
    "        else:\n",
    "            levels = np.arange(0., 1.5, 0.15)\n",
    "            cmap = 'Reds'\n",
    "        fl.set_layerstyle(nlevels=12, levels=levels, plottype='pcolormesh', mask=True, autozoom=False, colorscale='linear', cmap=cmap)\n",
    "        np.set_printoptions(formatter={'float':lambda x: '{:5.2e}'.format(x)})\n",
    "        \n",
    "        # Create figure\n",
    "        fp = adaqcode.field_plot.FieldPlot(ini_dict)\n",
    "        fp.add_layer(fl)\n",
    "        fp.setup_mapping(extent=[-12, 4.0, 48., 60.], mapping='coastlines', gridlines=True)\n",
    "        fig = fp.plot()\n",
    "        plt.savefig(ini_dict['plot_dir']+'/'+species+'/'+scenarios[scenario]+'_emission_sensitivity_gridded_field.png', dpi=300)\n",
    "        #fp.save_fig(plotdir=ini_dict['plot_dir']+'/'+species+'/')"
   ]
  },
  {
   "cell_type": "markdown",
   "metadata": {},
   "source": [
    "## Spatial maps of species concentrations\n",
    "- Plot temporal means of species concentrations "
   ]
  },
  {
   "cell_type": "code",
   "execution_count": null,
   "metadata": {},
   "outputs": [],
   "source": [
    "# Dictionary defining contour levels\n",
    "levels_dict = {\n",
    "    'PM2p5_NH4NO3' : np.linspace(0., 25., 12),\n",
    "    'PM2p5_NH42SO4' : np.linspace(0., 8., 12),\n",
    "    'NH3' : np.linspace(0., 15., 12),\n",
    "    'HNO3' : np.linspace(0., 6., 12),\n",
    "    'NO2' : np.linspace(0., 40., 12),\n",
    "    'NO' : np.linspace(0., 20., 12)\n",
    "}\n",
    "\n",
    "for species in ini_dict['short_name_list']:    \n",
    "\n",
    "    if species in chem_species:\n",
    "    \n",
    "        # Get control\n",
    "        md_ctl = md_list[0].gridded_cube_list.extract(iris.AttributeConstraint(short_name=species))[0]\n",
    "        md_ctl = md_ctl.collapsed('time', iris.analysis.MEAN)\n",
    "\n",
    "        fl = adaqcode.field_layer.FieldLayer(md_ctl)\n",
    "        fl.set_layerstyle(nlevels=12, levels=levels_dict[species], plottype='pcolormesh', mask=True, autozoom=False, colorscale='linear', cmap=adaqcode.aq_indices.daqi_cmap())\n",
    "        np.set_printoptions(formatter={'float':lambda x: '{:5.2e}'.format(x)})\n",
    "\n",
    "        # Create figure\n",
    "        fp = adaqcode.field_plot.FieldPlot(ini_dict)\n",
    "        fp.add_layer(fl)\n",
    "        fp.setup_mapping(extent=[-12, 4.0, 48., 60.], mapping='coastlines', gridlines=True)\n",
    "        fig = fp.plot()\n",
    "        plt.savefig(ini_dict['plot_dir']+'/'+species+'/control_gridded_field_conc.png', dpi=300)\n",
    "\n",
    "        # Get experiment cube lists\n",
    "        md_exp = md_list[1:]\n",
    "\n",
    "        # Calculate emission sensitivity factor and modify metadata\n",
    "        for md, scenario in zip(md_exp, scenarios):\n",
    "            md_sp = md.gridded_cube_list.extract(iris.AttributeConstraint(short_name=species))[0]\n",
    "            md_sp = md_sp.collapsed('time', iris.analysis.MEAN)\n",
    "\n",
    "            # Create field layer\n",
    "            fl = adaqcode.field_layer.FieldLayer(md_sp)\n",
    "            fl.set_layerstyle(nlevels=12, levels=levels_dict[species], plottype='pcolormesh', mask=True, autozoom=False, colorscale='linear', cmap=adaqcode.aq_indices.daqi_cmap())\n",
    "            np.set_printoptions(formatter={'float':lambda x: '{:5.2e}'.format(x)})\n",
    "\n",
    "            # Create figure\n",
    "            fp = adaqcode.field_plot.FieldPlot(ini_dict)\n",
    "            fp.add_layer(fl)\n",
    "            fp.setup_mapping(extent=[-12, 4.0, 48., 60.], mapping='coastlines', gridlines=True)\n",
    "            fig = fp.plot()\n",
    "            plt.savefig(ini_dict['plot_dir']+'/'+species+'/'+scenarios[scenario]+'_concentration_gridded_field.png', dpi=300)"
   ]
  },
  {
   "cell_type": "markdown",
   "metadata": {},
   "source": [
    "## Spatial maps of Met variables"
   ]
  },
  {
   "cell_type": "code",
   "execution_count": null,
   "metadata": {},
   "outputs": [],
   "source": [
    "# Dictionary defining contour levels\n",
    "levels_dict = {\n",
    "    'ws_10m' : np.linspace(0., 20., 12),\n",
    "    'wind_dir_10m' : np.linspace(0.,360., 12),\n",
    "    'total_precip' : np.linspace(0., 100., 12),\n",
    "    'T_1p5' : np.linspace(275., 288., 12),\n",
    "    'rh_1p5' : np.linspace(50., 100., 12),\n",
    "    'BL_depth' : np.linspace(0., 1000., 12)\n",
    "}\n",
    "# Dictionary defining contour colours\n",
    "cmap_dict = {\n",
    "    'ws_10m' : 'GnBu',\n",
    "    'wind_dir_10m' : 'GnBu',\n",
    "    'total_precip' : 'GnBu',\n",
    "    'T_1p5' : 'coolwarm',\n",
    "    'rh_1p5' : 'GnBu',\n",
    "    'BL_depth' : 'GnBu'\n",
    "}\n",
    "\n",
    "# Plot met variables\n",
    "for var in met_variables:\n",
    "\n",
    "    md_ctl = md_list[0].gridded_cube_list.extract(iris.AttributeConstraint(short_name=var))[0]\n",
    "    if var in ['total_precip']:\n",
    "        md_ctl = md_ctl.collapsed('time', iris.analysis.SUM)\n",
    "    else:\n",
    "        md_ctl = md_ctl.collapsed('time', iris.analysis.MEAN)\n",
    "    \n",
    "    fl = adaqcode.field_layer.FieldLayer(md_ctl)\n",
    "    fl.set_layerstyle(nlevels=12, levels=levels_dict[var], plottype='pcolormesh', mask=True, autozoom=False, colorscale='linear', cmap=cmap_dict[var])\n",
    "    np.set_printoptions(formatter={'float':lambda x: '{:5.2e}'.format(x)})\n",
    "\n",
    "    # Create figure\n",
    "    fp = adaqcode.field_plot.FieldPlot(ini_dict)\n",
    "    fp.add_layer(fl)\n",
    "    fp.setup_mapping(extent=[-12, 4.0, 48., 60.], mapping='coastlines', gridlines=True)\n",
    "    fig = fp.plot()\n",
    "    plt.savefig(ini_dict['plot_dir']+'/'+var+'/control_'+var+'_gridded_field.png', dpi=300)"
   ]
  },
  {
   "cell_type": "markdown",
   "metadata": {},
   "source": [
    "## Plot surface emissions of ammonia and NO"
   ]
  },
  {
   "cell_type": "code",
   "execution_count": null,
   "metadata": {},
   "outputs": [],
   "source": [
    "cube = load_ukca_emission()\n",
    "fl = adaqcode.field_layer.FieldLayer(cube)\n",
    "fl.set_layerstyle(nlevels=12, plottype='pcolormesh', mask=True, autozoom=False, colorscale='log', cmap='YlGnBu')\n",
    "np.set_printoptions(formatter={'float':lambda x: '{:5.2e}'.format(x)})\n",
    "\n",
    "# Create figure\n",
    "fp = adaqcode.field_plot.FieldPlot(ini_dict)\n",
    "fp.add_layer(fl)\n",
    "fp.setup_mapping(extent=[-12, 4.0, 48., 60.], mapping='coastlines', gridlines=True)\n",
    "fig = fp.plot()\n",
    "plt.savefig(ini_dict['plot_dir']+'/April_nitric_oxide_emissions.png', dpi=300)\n",
    "\n",
    "cube = load_classic_emission()\n",
    "fl = adaqcode.field_layer.FieldLayer(cube)\n",
    "fl.set_layerstyle(nlevels=12, plottype='pcolormesh', mask=True, autozoom=False, colorscale='log', cmap='YlGnBu')\n",
    "np.set_printoptions(formatter={'float':lambda x: '{:5.2e}'.format(x)})\n",
    "\n",
    "# Create figure\n",
    "fp = adaqcode.field_plot.FieldPlot(ini_dict)\n",
    "fp.add_layer(fl)\n",
    "fp.setup_mapping(extent=[-12, 4.0, 48., 60.], mapping='coastlines', gridlines=True)\n",
    "fig = fp.plot()\n",
    "plt.savefig(ini_dict['plot_dir']+'/April_ammonia_emissions.png', dpi=300)"
   ]
  },
  {
   "cell_type": "markdown",
   "metadata": {},
   "source": [
    "# Calculate correlation coefficients\n",
    "\n",
    "- The cells below calculate the correlation coefficient between various model quantities\n",
    "- Output to csv files\n",
    "\n",
    "## Timeseries at sites\n",
    "Calculate correlation between species surface concentration and meteorological parameters"
   ]
  },
  {
   "cell_type": "code",
   "execution_count": null,
   "metadata": {},
   "outputs": [],
   "source": [
    "f = open(ini_dict['plot_dir']+'/site_concentration_met_correlations.csv', \"w\")\n",
    "for site in sites:\n",
    "    f.write(site+', \\n')\n",
    "    for species in chem_species:\n",
    "        \n",
    "        # Species concentration\n",
    "        md_site = md_list[0].extract(site_name=site, short_name=species, singlecube=True)\n",
    "        \n",
    "        f.write(species+', \\n')\n",
    "        \n",
    "        for var in met_variables:\n",
    "            \n",
    "            # Met Variable\n",
    "            met_site = md_list[0].extract(site_name=site, short_name=var, singlecube=True)\n",
    "            \n",
    "            if md_site.data.size == met_site.data.size:\n",
    "                f.write(var+', '+str(np.corrcoef(md_site.data, met_site.data)[0,1])+'\\n')\n",
    "            \n",
    "f.close()  \n",
    "        "
   ]
  },
  {
   "cell_type": "markdown",
   "metadata": {},
   "source": [
    "Calculate correlation between species emission sensitivity and meteorological parameters"
   ]
  },
  {
   "cell_type": "code",
   "execution_count": null,
   "metadata": {},
   "outputs": [],
   "source": [
    "f = open(ini_dict['plot_dir']+'/site_emission_sensitivity_met_correlations.csv', \"w\")\n",
    "for site in sites:\n",
    "    f.write(site+', \\n')\n",
    "    for species in chem_species:\n",
    "        \n",
    "        # Species concentration\n",
    "        md_site = md_list[0].extract(site_name=site, short_name=species, singlecube=True)\n",
    "        md_exp  = md_list[1].extract(site_name=site, short_name=species, singlecube=True)\n",
    "        \n",
    "        ems_sens = (md_site - md_exp)/md_site/(1.-0.5)\n",
    "        \n",
    "        f.write(species+', \\n')\n",
    "        \n",
    "        for var in met_variables:\n",
    "            \n",
    "            # Met Variable\n",
    "            met_site = md_list[0].extract(site_name=site, short_name=var, singlecube=True)\n",
    "            \n",
    "            if ems_sens.data.size == met_site.data.size:\n",
    "                                \n",
    "                f.write(var+', '+str(np.ma.corrcoef(np.ma.masked_invalid(ems_sens.data), met_site.data)[0,1])+'\\n')\n",
    "            \n",
    "f.close()  "
   ]
  },
  {
   "cell_type": "markdown",
   "metadata": {},
   "source": [
    "## Temporal mean at surface \n",
    "Calculate correlation of emission sensitivity with surface emissions "
   ]
  },
  {
   "cell_type": "code",
   "execution_count": null,
   "metadata": {},
   "outputs": [],
   "source": [
    "f = open(ini_dict['plot_dir']+'/emission_sensitivity_emission_correlations.csv', \"w\")\n",
    "for species in chem_species:\n",
    "    # Species concentration\n",
    "    md_ctl = md_list[0].gridded_cube_list.extract(iris.AttributeConstraint(short_name=species))[0]\n",
    "    md_ctl = md_ctl.collapsed('time', iris.analysis.MEAN)\n",
    "    \n",
    "    md_exp = md_list[1].gridded_cube_list.extract(iris.AttributeConstraint(short_name=species))[0]\n",
    "    md_exp = md_exp.collapsed('time', iris.analysis.MEAN)\n",
    "        \n",
    "    ems_sens = (md_ctl - md_exp)/md_ctl/(1.-0.5)\n",
    "            \n",
    "    # Load emissions\n",
    "    ems = load_ukca_emission()\n",
    "    \n",
    "    if ems_sens.data.size == ems.data.size:\n",
    "                                \n",
    "        f.write(species+', '+str(np.ma.corrcoef(np.ma.masked_invalid(ems_sens.data.flatten()), ems.data.flatten())[0,1])+'\\n')\n",
    "\n",
    "f.close()\n",
    "\n",
    "f = open(ini_dict['plot_dir']+'/emission_sensitivity_nh3_emission_correlations.csv', \"w\")\n",
    "for species in chem_species:\n",
    "    # Species concentration\n",
    "    md_ctl = md_list[0].gridded_cube_list.extract(iris.AttributeConstraint(short_name=species))[0]\n",
    "    md_ctl = md_ctl.collapsed('time', iris.analysis.MEAN)\n",
    "    \n",
    "    md_exp = md_list[1].gridded_cube_list.extract(iris.AttributeConstraint(short_name=species))[0]\n",
    "    md_exp = md_exp.collapsed('time', iris.analysis.MEAN)\n",
    "        \n",
    "    ems_sens = (md_ctl - md_exp)/md_ctl/(1.-0.5)\n",
    "            \n",
    "    # Load emissions\n",
    "    ems = load_classic_emission()\n",
    "    \n",
    "    if ems_sens.data.size == ems.data.size:\n",
    "                                \n",
    "        f.write(species+', '+str(np.ma.corrcoef(np.ma.masked_invalid(ems_sens.data.flatten()), ems.data.flatten())[0,1])+'\\n')\n",
    "\n",
    "f.close()"
   ]
  },
  {
   "cell_type": "markdown",
   "metadata": {},
   "source": [
    "Calculate correlation of emission sensitivity with meteorological variables"
   ]
  },
  {
   "cell_type": "code",
   "execution_count": null,
   "metadata": {},
   "outputs": [],
   "source": [
    "f = open(ini_dict['plot_dir']+'/spatial_emission_sensitivity_met_correlations.csv', \"w\")\n",
    "for species in chem_species:\n",
    "    # Species concentration\n",
    "    md_ctl = md_list[0].gridded_cube_list.extract(iris.AttributeConstraint(short_name=species))[0]\n",
    "    md_ctl = md_ctl.collapsed('time', iris.analysis.MEAN)\n",
    "    \n",
    "    md_exp = md_list[1].gridded_cube_list.extract(iris.AttributeConstraint(short_name=species))[0]\n",
    "    md_exp = md_exp.collapsed('time', iris.analysis.MEAN)\n",
    "        \n",
    "    ems_sens = (md_ctl - md_exp)/md_ctl/(1.-0.5)\n",
    "\n",
    "    f.write(species+', \\n')\n",
    "\n",
    "    # Load emissions\n",
    "    for met in met_variables:\n",
    "        \n",
    "        md_met = md_list[0].gridded_cube_list.extract(iris.AttributeConstraint(short_name=met))[0]\n",
    "        md_met = md_met.collapsed('time', iris.analysis.MEAN)\n",
    "    \n",
    "        if ems_sens.data.size == md_met.data.size:\n",
    "                                \n",
    "            f.write(met+', '+str(np.ma.corrcoef(np.ma.masked_invalid(ems_sens.data.flatten()), md_met.data.flatten())[0,1])+'\\n')\n",
    "\n",
    "f.close()"
   ]
  }
 ],
 "metadata": {
  "kernelspec": {
   "display_name": "default-current",
   "language": "python",
   "name": "default-current"
  },
  "language_info": {
   "codemirror_mode": {
    "name": "ipython",
    "version": 3
   },
   "file_extension": ".py",
   "mimetype": "text/x-python",
   "name": "python",
   "nbconvert_exporter": "python",
   "pygments_lexer": "ipython3",
   "version": "3.6.8"
  }
 },
 "nbformat": 4,
 "nbformat_minor": 2
}
