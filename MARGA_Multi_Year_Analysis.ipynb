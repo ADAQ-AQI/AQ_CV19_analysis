{
 "cells": [
  {
   "cell_type": "markdown",
   "metadata": {},
   "source": [
    "# Notebook to read in the observational data from Auchencorth Moss and Chilbolton Observatory."
   ]
  },
  {
   "cell_type": "markdown",
   "metadata": {},
   "source": [
    "Import the required modules."
   ]
  },
  {
   "cell_type": "code",
   "execution_count": null,
   "metadata": {},
   "outputs": [],
   "source": [
    "import numpy as np\n",
    "import pandas as pd\n",
    "import datetime as dt\n",
    "import matplotlib.pyplot as plt"
   ]
  },
  {
   "cell_type": "markdown",
   "metadata": {},
   "source": [
    "Define some key parameters."
   ]
  },
  {
   "cell_type": "code",
   "execution_count": null,
   "metadata": {},
   "outputs": [],
   "source": [
    "datadir  = '/data/users/ersmith/Other/COVID-19/Particulate_Matter/Data_Files/'\n",
    "std_temp = 273.15\n",
    "std_pres = 1e5\n",
    "r_gas    = 8.314"
   ]
  },
  {
   "cell_type": "markdown",
   "metadata": {},
   "source": [
    "## Read the Auchencorth Moss data."
   ]
  },
  {
   "cell_type": "code",
   "execution_count": null,
   "metadata": {},
   "outputs": [],
   "source": [
    "# Define the function to load and merge the Auchencorth Moss data.\n",
    "def load_auchencorth_moss(year) :\n",
    "\n",
    "    # Define the file name.\n",
    "    file = '%s_Auchencorth_Moss.xlsx'%(year)\n",
    "\n",
    "    # Create a data frame to hold the combined data.\n",
    "    auch_df = pd.DataFrame()\n",
    "\n",
    "    # Read the different pollutant data sheets.\n",
    "    df_so4  = pd.read_excel(datadir+file,sheet_name='PM2p5_SO4')\n",
    "    df_no3  = pd.read_excel(datadir+file,sheet_name='PM2p5_NO3')\n",
    "    df_nh4  = pd.read_excel(datadir+file,sheet_name='PM2p5_NH4')\n",
    "    df_hno3 = pd.read_excel(datadir+file,sheet_name='HNO3')\n",
    "    df_nh3  = pd.read_excel(datadir+file,sheet_name='NH3')\n",
    "\n",
    "    # Create a list of the data frames to process.\n",
    "    df_list  = [df_so4,df_no3,df_nh4,df_hno3,df_nh3]\n",
    "    df_names = ['PM2p5_SO4','PM2p5_NO3','PM2p5_NH4','HNO3','NH3']\n",
    "    df_mass  = [96.06,62.0049,18.038,63.01,17.031]\n",
    "\n",
    "    # Process the data.\n",
    "    for x in range(len(df_list)) :\n",
    "\n",
    "        # Convert the date and time information to datetime.\n",
    "        # All data uses the year 2020 to enable them to be plotted on the same graph.\n",
    "        datetime_data = ['2020-%s-%s-%s'%(str(df_list[x]['Date'][y])[5:7],\\\n",
    "                                          str(df_list[x]['Date'][y])[8:10],\\\n",
    "                                          str(\"{:02d}\".format(int(str(df_list[x]['Time'][y])[0:2])-1)))\\\n",
    "                         for y in range(len(df_list[x]))]\n",
    "        datetime_data = pd.to_datetime(datetime_data,format='%Y-%m-%d-%H')\n",
    "\n",
    "        # Convert the concentration data to floats, replace any '<x' values with nan and convert units from ug/m3 to ppb.\n",
    "        conc_data = df_list[x]['ug m-3'][:]\n",
    "        for y in range(len(conc_data)) :\n",
    "            if str(conc_data[y]).startswith('<') :\n",
    "                conc_data[y] = np.float('NaN')\n",
    "        conc_data = [(float(y) * 1e3 * ((r_gas*std_temp)/(std_pres*df_mass[x]))) for y in conc_data]\n",
    "\n",
    "        # Add the data to the data frame.\n",
    "        auch_df[df_names[x]] = pd.Series(conc_data,index=datetime_data)\n",
    "\n",
    "    # Filter to leave only timesteps where we have data for all required species.\n",
    "    auch_df = auch_df[np.isfinite(auch_df['PM2p5_NH4']) & np.isfinite(auch_df['PM2p5_SO4']) & np.isfinite(auch_df['PM2p5_NO3']) & np.isfinite(auch_df['HNO3']) & np.isfinite(auch_df['NH3'])]\n",
    "\n",
    "    # Calculate the gas ratio.\n",
    "    auch_df['Gas_Ratio'] = (auch_df['NH3'] + auch_df['PM2p5_NH4'] - (2 * auch_df['PM2p5_SO4'])) / (auch_df['HNO3'] + auch_df['PM2p5_NO3'])\n",
    "\n",
    "    # Return the data frame.\n",
    "    return auch_df"
   ]
  },
  {
   "cell_type": "markdown",
   "metadata": {},
   "source": [
    "## Read the Chilbolton Observatory data."
   ]
  },
  {
   "cell_type": "code",
   "execution_count": null,
   "metadata": {},
   "outputs": [],
   "source": [
    "# Define the function to load and merge the Chilbolton Observatory data.\n",
    "def load_chilbolton_observatory(year) :\n",
    "\n",
    "    # Define the file name.\n",
    "    file = '%s_Chilbolton_Observatory.xlsx'%(year)\n",
    "\n",
    "    # Create a data frame to hold the combined data.\n",
    "    chil_df = pd.DataFrame()\n",
    "\n",
    "    # Read the different pollutant data sheets.\n",
    "    df_so4  = pd.read_excel(datadir+file,sheet_name='PM2p5_SO4')\n",
    "    df_no3  = pd.read_excel(datadir+file,sheet_name='PM2p5_NO3')\n",
    "    df_nh4  = pd.read_excel(datadir+file,sheet_name='PM2p5_NH4')\n",
    "    df_hno3 = pd.read_excel(datadir+file,sheet_name='HNO3')\n",
    "    df_nh3  = pd.read_excel(datadir+file,sheet_name='NH3')\n",
    "\n",
    "    # Create a list of the data frames to process.\n",
    "    df_list  = [df_so4,df_no3,df_nh4,df_hno3,df_nh3]\n",
    "    df_names = ['PM2p5_SO4','PM2p5_NO3','PM2p5_NH4','HNO3','NH3']\n",
    "    df_mass  = [96.06,62.0049,18.038,63.01,17.031]\n",
    "\n",
    "    # Process the data.\n",
    "    for x in range(len(df_list)) :\n",
    "\n",
    "        # Convert the date and time information to datetime.\n",
    "        # All data uses the year 2020 to enable them to be plotted on the same graph.\n",
    "        datetime_data = ['2020-%s-%s-%s'%(str(df_list[x]['Date'][y])[5:7],\\\n",
    "                                          str(df_list[x]['Date'][y])[8:10],\\\n",
    "                                          str(\"{:02d}\".format(int(str(df_list[x]['Time'][y])[0:2])-1)))\\\n",
    "                         for y in range(len(df_list[x]))]\n",
    "        datetime_data = pd.to_datetime(datetime_data,format='%Y-%m-%d-%H')\n",
    "\n",
    "        # Convert the concentration data to floats and replace any '<x' values with nan.\n",
    "        conc_data = df_list[x]['ug m-3'][:]\n",
    "        for y in range(len(conc_data)) :\n",
    "            if str(conc_data[y]).startswith('<') :\n",
    "                conc_data[y] = np.float('NaN')\n",
    "        conc_data = [(float(y) * 1e3 * ((r_gas*std_temp)/(std_pres*df_mass[x]))) for y in conc_data]\n",
    "\n",
    "        # Add the data to the data frame.\n",
    "        chil_df[df_names[x]] = pd.Series(conc_data,index=datetime_data)\n",
    "\n",
    "    # Filter to leave only timesteps where we have data for all required species.\n",
    "    chil_df = chil_df[np.isfinite(chil_df['PM2p5_NH4']) & np.isfinite(chil_df['PM2p5_SO4']) & np.isfinite(chil_df['PM2p5_NO3']) & np.isfinite(chil_df['HNO3']) & np.isfinite(chil_df['NH3'])]\n",
    "\n",
    "    # Calculate the gas ratio.\n",
    "    chil_df['Gas_Ratio'] = (chil_df['NH3'] + chil_df['PM2p5_NH4'] - (2 * chil_df['PM2p5_SO4'])) / (chil_df['HNO3'] + chil_df['PM2p5_NO3'])\n",
    "    \n",
    "    # Return the data frame.\n",
    "    return chil_df"
   ]
  },
  {
   "cell_type": "markdown",
   "metadata": {},
   "source": [
    "## Load the observational data."
   ]
  },
  {
   "cell_type": "code",
   "execution_count": null,
   "metadata": {},
   "outputs": [],
   "source": [
    "# Load the Auchencorth Moss data.\n",
    "auch_df_2016 = load_auchencorth_moss('2016')\n",
    "auch_df_2017 = load_auchencorth_moss('2017')\n",
    "auch_df_2018 = load_auchencorth_moss('2018')\n",
    "auch_df_2019 = load_auchencorth_moss('2019')\n",
    "auch_df_2020 = load_auchencorth_moss('2020')\n",
    "\n",
    "# Load the Chilbolton Observatory data.\n",
    "chil_df_2016 = load_chilbolton_observatory('2016')\n",
    "chil_df_2017 = load_chilbolton_observatory('2017')\n",
    "chil_df_2018 = load_chilbolton_observatory('2018')\n",
    "chil_df_2019 = load_chilbolton_observatory('2019')\n",
    "chil_df_2020 = load_chilbolton_observatory('2020')"
   ]
  },
  {
   "cell_type": "markdown",
   "metadata": {},
   "source": [
    "## Create a multiyear averaged dataset."
   ]
  },
  {
   "cell_type": "code",
   "execution_count": null,
   "metadata": {},
   "outputs": [],
   "source": [
    "# Create a multiyear average for the Auchencorth Moss site.\n",
    "auch_df_avg = pd.concat([auch_df_2016,auch_df_2017,auch_df_2018,auch_df_2019])\n",
    "auch_df_avg = auch_df_avg.resample('H').mean()\n",
    "\n",
    "# Create a multiyear average for the Chilbolton Observatory site.\n",
    "chil_df_avg = pd.concat([chil_df_2016,chil_df_2017,chil_df_2018,chil_df_2019])\n",
    "chil_df_avg = chil_df_avg.resample('H').mean()"
   ]
  },
  {
   "cell_type": "markdown",
   "metadata": {},
   "source": [
    "## Perform any time averaging of the observational data."
   ]
  },
  {
   "cell_type": "markdown",
   "metadata": {},
   "source": [
    "Average the data by a chosen frequency : 'H' = hour, 'D' = day, 'W' = week."
   ]
  },
  {
   "cell_type": "code",
   "execution_count": null,
   "metadata": {},
   "outputs": [],
   "source": [
    "# Define the resampling period.\n",
    "resample_period = 'M'\n",
    "\n",
    "# Resample the Auchencorth Moss data.\n",
    "auch_df_avg_mean  = auch_df_avg.resample(resample_period,label='left').mean()\n",
    "auch_df_2016_mean = auch_df_2016.resample(resample_period,label='left').mean()\n",
    "auch_df_2017_mean = auch_df_2017.resample(resample_period,label='left').mean()\n",
    "auch_df_2018_mean = auch_df_2018.resample(resample_period,label='left').mean()\n",
    "auch_df_2019_mean = auch_df_2019.resample(resample_period,label='left').mean()\n",
    "auch_df_2020_mean = auch_df_2020.resample(resample_period,label='left').mean()\n",
    "auch_df_avg_min   = auch_df_avg.resample(resample_period,label='left').quantile(0.25)\n",
    "auch_df_2016_min  = auch_df_2016.resample(resample_period,label='left').quantile(0.25)\n",
    "auch_df_2017_min  = auch_df_2017.resample(resample_period,label='left').quantile(0.25)\n",
    "auch_df_2018_min  = auch_df_2018.resample(resample_period,label='left').quantile(0.25)\n",
    "auch_df_2019_min  = auch_df_2019.resample(resample_period,label='left').quantile(0.25)\n",
    "auch_df_2020_min  = auch_df_2020.resample(resample_period,label='left').quantile(0.25)\n",
    "auch_df_avg_max   = auch_df_avg.resample(resample_period,label='left').quantile(0.75)\n",
    "auch_df_2016_max  = auch_df_2016.resample(resample_period,label='left').quantile(0.75)\n",
    "auch_df_2017_max  = auch_df_2017.resample(resample_period,label='left').quantile(0.75)\n",
    "auch_df_2018_max  = auch_df_2018.resample(resample_period,label='left').quantile(0.75)\n",
    "auch_df_2019_max  = auch_df_2019.resample(resample_period,label='left').quantile(0.75)\n",
    "auch_df_2020_max  = auch_df_2020.resample(resample_period,label='left').quantile(0.75)\n",
    "\n",
    "# Resample the Chilbolton Observatory data.\n",
    "chil_df_avg_mean  = chil_df_avg.resample(resample_period,label='left').mean()\n",
    "chil_df_2016_mean = chil_df_2016.resample(resample_period,label='left').mean()\n",
    "chil_df_2017_mean = chil_df_2017.resample(resample_period,label='left').mean()\n",
    "chil_df_2018_mean = chil_df_2018.resample(resample_period,label='left').mean()\n",
    "chil_df_2019_mean = chil_df_2019.resample(resample_period,label='left').mean()\n",
    "chil_df_2020_mean = chil_df_2020.resample(resample_period,label='left').mean()\n",
    "chil_df_avg_min   = chil_df_avg.resample(resample_period,label='left').quantile(0.25)\n",
    "chil_df_2016_min  = chil_df_2016.resample(resample_period,label='left').quantile(0.25)\n",
    "chil_df_2017_min  = chil_df_2017.resample(resample_period,label='left').quantile(0.25)\n",
    "chil_df_2018_min  = chil_df_2018.resample(resample_period,label='left').quantile(0.25)\n",
    "chil_df_2019_min  = chil_df_2019.resample(resample_period,label='left').quantile(0.25)\n",
    "chil_df_2020_min  = chil_df_2020.resample(resample_period,label='left').quantile(0.25)\n",
    "chil_df_avg_max   = chil_df_avg.resample(resample_period,label='left').quantile(0.75)\n",
    "chil_df_2016_max  = chil_df_2016.resample(resample_period,label='left').quantile(0.75)\n",
    "chil_df_2017_max  = chil_df_2017.resample(resample_period,label='left').quantile(0.75)\n",
    "chil_df_2018_max  = chil_df_2018.resample(resample_period,label='left').quantile(0.75)\n",
    "chil_df_2019_max  = chil_df_2019.resample(resample_period,label='left').quantile(0.75)\n",
    "chil_df_2020_max  = chil_df_2020.resample(resample_period,label='left').quantile(0.75)"
   ]
  },
  {
   "cell_type": "markdown",
   "metadata": {},
   "source": [
    "## Plot the Auchencorth Moss data."
   ]
  },
  {
   "cell_type": "code",
   "execution_count": null,
   "metadata": {},
   "outputs": [],
   "source": [
    "# Define the variables to plot.\n",
    "variable_list = ['Gas_Ratio','PM2p5_SO4','PM2p5_NO3','PM2p5_NH4','HNO3','NH3']\n",
    "\n",
    "# Loop over each variable and plot the graph.\n",
    "for variable in variable_list :\n",
    "\n",
    "    # Define the figure.\n",
    "    fig,ax = plt.subplots()\n",
    "\n",
    "    # Plot the data.\n",
    "    plt.plot(auch_df_2016_mean.index,auch_df_2016_mean[variable],lw=2,c='indianred',label='2016')\n",
    "    plt.fill_between(auch_df_2016_mean.index,auch_df_2016_min[variable],auch_df_2016_max[variable],color='indianred',edgecolor=None,alpha=0.25)\n",
    "    plt.plot(auch_df_2017_mean.index,auch_df_2017_mean[variable],lw=2,c='orange',label='2017')\n",
    "    plt.fill_between(auch_df_2017_mean.index,auch_df_2017_min[variable],auch_df_2017_max[variable],color='orange',edgecolor=None,alpha=0.25)\n",
    "    plt.plot(auch_df_2018_mean.index,auch_df_2018_mean[variable],lw=2,c='gold',label='2018')\n",
    "    plt.fill_between(auch_df_2018_mean.index,auch_df_2018_min[variable],auch_df_2018_max[variable],color='gold',edgecolor=None,alpha=0.25)\n",
    "    plt.plot(auch_df_2019_mean.index,auch_df_2019_mean[variable],lw=2,c='yellowgreen',label='2019')\n",
    "    plt.fill_between(auch_df_2019_mean.index,auch_df_2019_min[variable],auch_df_2019_max[variable],color='yellowgreen',edgecolor=None,alpha=0.25)\n",
    "    plt.plot(auch_df_2020_mean.index,auch_df_2020_mean[variable],lw=2,c='cadetblue',label='2020')\n",
    "    plt.fill_between(auch_df_2020_mean.index,auch_df_2020_min[variable],auch_df_2020_max[variable],color='cadetblue',edgecolor=None,alpha=0.25)\n",
    "\n",
    "    # Plot a lockdown marker.\n",
    "    plt.axvline(pd.to_datetime(dt.datetime(2020,3,23,0,0,0)),lw=2,ls='dashed',c='black')\n",
    "\n",
    "    # Define the axes ticks.\n",
    "    date_ticks = [dt.datetime(2020,x+1,1,0,0,0) for x in np.arange(12)]\n",
    "    date_ticks = pd.to_datetime(date_ticks)\n",
    "    date_names = ['J','F','M','A','M','J','J','A','S','O','N','D']\n",
    "    ax.set_xticks(ticks=date_ticks)\n",
    "    ax.set_xticklabels(date_names)\n",
    "\n",
    "    # Define the labels.\n",
    "    plt.title('Auchencorth Moss')\n",
    "    plt.ylabel(variable)\n",
    "    plt.legend()\n",
    "\n",
    "    # Save the figure.\n",
    "    plot_directory = './'\n",
    "    plt.savefig(plot_directory+'Auchencorth_Moss_%s_All_Year.png'%(variable),dpi=150)"
   ]
  },
  {
   "cell_type": "code",
   "execution_count": null,
   "metadata": {},
   "outputs": [],
   "source": [
    "# Define the variables to plot.\n",
    "variable_list = ['Gas_Ratio','PM2p5_SO4','PM2p5_NO3','PM2p5_NH4','HNO3','NH3']\n",
    "\n",
    "# Loop over each variable and plot the graph.\n",
    "for variable in variable_list :\n",
    "\n",
    "    # Define the figure.\n",
    "    fig,ax = plt.subplots()\n",
    "\n",
    "    # Plot the data.\n",
    "    plt.plot(auch_df_avg_mean.index,auch_df_avg_mean[variable],lw=2,c='indianred',label='2015-2019')\n",
    "    plt.fill_between(auch_df_avg_mean.index,auch_df_avg_min[variable],auch_df_avg_max[variable],color='indianred',edgecolor=None,alpha=0.25)\n",
    "    plt.plot(auch_df_2020_mean.index,auch_df_2020_mean[variable],lw=2,c='cadetblue',label='2020')\n",
    "    plt.fill_between(auch_df_2020_mean.index,auch_df_2020_min[variable],auch_df_2020_max[variable],color='cadetblue',edgecolor=None,alpha=0.25)\n",
    "\n",
    "    # Plot a lockdown marker.\n",
    "    plt.axvline(pd.to_datetime(dt.datetime(2020,3,23,0,0,0)),lw=2,ls='dashed',c='black')\n",
    "\n",
    "    # Define the axes ticks.\n",
    "    date_ticks = [dt.datetime(2020,x+1,1,0,0,0) for x in np.arange(12)]\n",
    "    date_ticks = pd.to_datetime(date_ticks)\n",
    "    date_names = ['J','F','M','A','M','J','J','A','S','O','N','D']\n",
    "    ax.set_xticks(ticks=date_ticks)\n",
    "    ax.set_xticklabels(date_names)\n",
    "\n",
    "    # Define the labels.\n",
    "    plt.title('Auchencorth Moss')\n",
    "    plt.ylabel(variable)\n",
    "    plt.legend()\n",
    "\n",
    "    # Save the figure.\n",
    "    plot_directory = './'\n",
    "    plt.savefig(plot_directory+'Auchencorth_Moss_%s_Average.png'%(variable),dpi=150)"
   ]
  },
  {
   "cell_type": "markdown",
   "metadata": {},
   "source": [
    "## Plot the Chilbolton Observatory data."
   ]
  },
  {
   "cell_type": "code",
   "execution_count": null,
   "metadata": {},
   "outputs": [],
   "source": [
    "# Define the variables to plot.\n",
    "variable_list = ['Gas_Ratio','PM2p5_SO4','PM2p5_NO3','PM2p5_NH4','HNO3','NH3']\n",
    "\n",
    "# Loop over each variable and plot the graph.\n",
    "for variable in variable_list :\n",
    "\n",
    "    # Define the figure.\n",
    "    fig,ax = plt.subplots()\n",
    "\n",
    "    # Plot the data.\n",
    "    plt.plot(chil_df_2016_mean.index,chil_df_2016_mean[variable],lw=2,c='indianred',label='2016')\n",
    "    plt.fill_between(chil_df_2016_mean.index,chil_df_2016_min[variable],chil_df_2016_max[variable],color='indianred',edgecolor=None,alpha=0.25)\n",
    "    plt.plot(chil_df_2017_mean.index,chil_df_2017_mean[variable],lw=2,c='orange',label='2017')\n",
    "    plt.fill_between(chil_df_2017_mean.index,chil_df_2017_min[variable],chil_df_2017_max[variable],color='orange',edgecolor=None,alpha=0.25)\n",
    "    plt.plot(chil_df_2018_mean.index,chil_df_2018_mean[variable],lw=2,c='gold',label='2018')\n",
    "    plt.fill_between(chil_df_2018_mean.index,chil_df_2018_min[variable],chil_df_2018_max[variable],color='gold',edgecolor=None,alpha=0.25)\n",
    "    plt.plot(chil_df_2019_mean.index,chil_df_2019_mean[variable],lw=2,c='yellowgreen',label='2019')\n",
    "    plt.fill_between(chil_df_2019_mean.index,chil_df_2019_min[variable],chil_df_2019_max[variable],color='yellowgreen',edgecolor=None,alpha=0.25)\n",
    "    plt.plot(chil_df_2020_mean.index,chil_df_2020_mean[variable],lw=2,c='cadetblue',label='2020')\n",
    "    plt.fill_between(chil_df_2020_mean.index,chil_df_2020_min[variable],chil_df_2020_max[variable],color='cadetblue',edgecolor=None,alpha=0.25)\n",
    "\n",
    "    # Plot a lockdown marker.\n",
    "    plt.axvline(pd.to_datetime(dt.datetime(2020,3,23,0,0,0)),lw=2,ls='dashed',c='black')\n",
    "\n",
    "    # Define the axes ticks.\n",
    "    date_ticks = [dt.datetime(2020,x+1,1,0,0,0) for x in np.arange(12)]\n",
    "    date_ticks = pd.to_datetime(date_ticks)\n",
    "    date_names = ['J','F','M','A','M','J','J','A','S','O','N','D']\n",
    "    ax.set_xticks(ticks=date_ticks)\n",
    "    ax.set_xticklabels(date_names)\n",
    "\n",
    "    # Define the labels.\n",
    "    plt.title('Chilbolton Observatory')\n",
    "    plt.ylabel(variable)\n",
    "    plt.legend()\n",
    "\n",
    "    # Save the figure.\n",
    "    plot_directory = './'\n",
    "    plt.savefig(plot_directory+'Chilbolton_Observatory_%s_All_Years.png'%(variable),dpi=150)"
   ]
  },
  {
   "cell_type": "code",
   "execution_count": null,
   "metadata": {},
   "outputs": [],
   "source": [
    "# Define the variables to plot.\n",
    "variable_list = ['Gas_Ratio','PM2p5_SO4','PM2p5_NO3','PM2p5_NH4','HNO3','NH3']\n",
    "\n",
    "# Loop over each variable and plot the graph.\n",
    "for variable in variable_list :\n",
    "\n",
    "    # Define the figure.\n",
    "    fig,ax = plt.subplots()\n",
    "\n",
    "    # Plot the data.\n",
    "    plt.plot(chil_df_avg_mean.index,chil_df_avg_mean[variable],lw=2,c='indianred',label='2015-2019')\n",
    "    plt.fill_between(chil_df_avg_mean.index,chil_df_avg_min[variable],chil_df_avg_max[variable],color='indianred',edgecolor=None,alpha=0.25)\n",
    "    plt.plot(chil_df_2020_mean.index,chil_df_2020_mean[variable],lw=2,c='cadetblue',label='2020')\n",
    "    plt.fill_between(chil_df_2020_mean.index,chil_df_2020_min[variable],chil_df_2020_max[variable],color='cadetblue',edgecolor=None,alpha=0.25)\n",
    "\n",
    "    # Plot a lockdown marker.\n",
    "    plt.axvline(pd.to_datetime(dt.datetime(2020,3,23,0,0,0)),lw=2,ls='dashed',c='black')\n",
    "\n",
    "    # Define the axes ticks.\n",
    "    date_ticks = [dt.datetime(2020,x+1,1,0,0,0) for x in np.arange(12)]\n",
    "    date_ticks = pd.to_datetime(date_ticks)\n",
    "    date_names = ['J','F','M','A','M','J','J','A','S','O','N','D']\n",
    "    ax.set_xticks(ticks=date_ticks)\n",
    "    ax.set_xticklabels(date_names)\n",
    "\n",
    "    # Define the labels.\n",
    "    plt.title('Chilbolton Observatory')\n",
    "    plt.ylabel(variable)\n",
    "    plt.legend()\n",
    "\n",
    "    # Save the figure.\n",
    "    plot_directory = './'\n",
    "    plt.savefig(plot_directory+'Chilbolton_Observatory_%s_Average.png'%(variable),dpi=150)"
   ]
  }
 ],
 "metadata": {
  "kernelspec": {
   "display_name": "default-current",
   "language": "python",
   "name": "default-current"
  },
  "language_info": {
   "codemirror_mode": {
    "name": "ipython",
    "version": 3
   },
   "file_extension": ".py",
   "mimetype": "text/x-python",
   "name": "python",
   "nbconvert_exporter": "python",
   "pygments_lexer": "ipython3",
   "version": "3.6.8"
  }
 },
 "nbformat": 4,
 "nbformat_minor": 2
}
