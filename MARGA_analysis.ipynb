{
 "cells": [
  {
   "cell_type": "markdown",
   "metadata": {},
   "source": [
    "# Notebook to analyse measured concentrations from MARGA\n",
    "Read data from Excel files into Pandas dataframes"
   ]
  },
  {
   "cell_type": "code",
   "execution_count": null,
   "metadata": {},
   "outputs": [],
   "source": [
    "# Import modules\n",
    "import pandas as pd\n",
    "import datetime as dt\n",
    "import matplotlib.pyplot as plt\n",
    "import numpy as np\n",
    "%matplotlib inline"
   ]
  },
  {
   "cell_type": "code",
   "execution_count": null,
   "metadata": {},
   "outputs": [],
   "source": [
    "# Set some parameters\n",
    "datadir = '/data/users/bdrummon/obs/nitrate_measurements_JanMay2020/'\n",
    "auchencorth_filename = '2020filtered_Metoffice.xlsx'\n",
    "chilbolton_filename1 = 'Chilbolton_JanMarch2020.csv'\n",
    "chilbolton_filename2 = 'Prov_CHBO_MARGA_April-May_2020.xlsx'"
   ]
  },
  {
   "cell_type": "markdown",
   "metadata": {},
   "source": [
    "### Function to load Auchencorth Moss data\n",
    "A function to load data for the Auchencorth Moss Excel file, returns a dataframe"
   ]
  },
  {
   "cell_type": "code",
   "execution_count": null,
   "metadata": {},
   "outputs": [],
   "source": [
    "def load_auchencorth_moss():\n",
    "    \n",
    "    mapper = {\n",
    "        'Time_date' : 'time',\n",
    "        'NH4_PM2_5' : 'PM2p5_NH4',\n",
    "        'NO3_PM2_5' : 'PM2p5_NO3',\n",
    "        'SO4_PM2_5' : 'PM2p5_SO4'\n",
    "    }\n",
    "    \n",
    "    # Load file into dataframe\n",
    "    df = pd.read_excel(datadir+auchencorth_filename, sheet_name='2020_filtered')\n",
    "    \n",
    "    # Get subset of columns\n",
    "    df = df[['Time_date', 'NH4_PM2_5', 'NO3_PM2_5', 'SO4_PM2_5', 'NH3', 'HNO3', 'SO2']]\n",
    "    \n",
    "    # Rename columns\n",
    "    df = df.rename(columns=mapper)\n",
    "    \n",
    "    # Drop the units row\n",
    "    df = df.drop(0)\n",
    "    \n",
    "    # Convert string to datetime\n",
    "    df['time'] = pd.to_datetime(df['time'])\n",
    "    \n",
    "    # Make datetime the index\n",
    "    df = df.set_index('time')\n",
    "    \n",
    "    return df"
   ]
  },
  {
   "cell_type": "markdown",
   "metadata": {},
   "source": [
    "### Functions to load Chilbolton data\n",
    "- The Chilbolton data is split over two files - one downloaded from UK Air and one obtained directly from CEH (unratified data) - these are in different formats so we read them separately and then combine"
   ]
  },
  {
   "cell_type": "code",
   "execution_count": null,
   "metadata": {},
   "outputs": [],
   "source": [
    "# Function to convert to datetime \n",
    "# We have to have a special way to handle midnight, which in the data is marked as 24:00:00\n",
    "# Pandas can only handle hours 0 -> 23 so we have to convert 24:00:00 of day D to 00:00:00 of day D+1\n",
    "def my_to_datetime(date_str):\n",
    "    if date_str[10:12] != '24':\n",
    "        return pd.to_datetime(date_str, format='%Y-%m-%d%H:%M:%S')\n",
    "\n",
    "    date_str = date_str[0:10] + '00' + date_str[12:]\n",
    "    return pd.to_datetime(date_str, format='%Y-%m-%d%H:%M:%S') + \\\n",
    "           dt.timedelta(days=1)"
   ]
  },
  {
   "cell_type": "code",
   "execution_count": null,
   "metadata": {},
   "outputs": [],
   "source": [
    "def load_chilbolton_observatory1():\n",
    "    \n",
    "    mapper = {\n",
    "        'ammonium in PM2.5' : 'PM2p5_NH4',\n",
    "        'nitrate in PM2.5' : 'PM2p5_NO3',\n",
    "        'sulphate in PM2.5' : 'PM2p5_SO4',\n",
    "        'gaseous nitric acid' : 'HNO3',\n",
    "        'gaseous ammonia' : 'NH3',\n",
    "        'gaseous sulphur dioxide' : 'SO2'\n",
    "    }\n",
    "    \n",
    "    # Load file into dataframe\n",
    "    df = pd.read_csv(datadir+chilbolton_filename1, header=4, skipfooter=1)\n",
    "    \n",
    "    # Get subset of columns and rename\n",
    "    df = df[['Date', 'Time']+list(mapper.keys())].rename(columns=mapper)\n",
    "        \n",
    "    # Combine date and time and convert to datetime\n",
    "    df['time'] = df['Date'] + df['Time']\n",
    "    df['time'] = df.time.apply(my_to_datetime)\n",
    "    df = df.drop(columns=['Date', 'Time'])\n",
    "    \n",
    "    # Make time the index\n",
    "    df = df.set_index('time')\n",
    "    \n",
    "    # Replace missing data with NaN\n",
    "    df = df.replace('No data', np.nan)\n",
    "    df = df.dropna()\n",
    "    \n",
    "    # Drop the last row (as this time is repeated in the April-May dataset)\n",
    "    df = df[:-1]\n",
    "    \n",
    "    # Convert to float\n",
    "    df = df.astype(float)\n",
    "    \n",
    "    return df"
   ]
  },
  {
   "cell_type": "code",
   "execution_count": null,
   "metadata": {},
   "outputs": [],
   "source": [
    "def load_chilbolton_observatory2():\n",
    "    \n",
    "    mapper = {\n",
    "        'm_NH4_2.5' : 'PM2p5_NH4',\n",
    "        'm_NO3_2.5' : 'PM2p5_NO3',\n",
    "        'm_SO4_2.5' : 'PM2p5_SO4',\n",
    "        'm_HNO3_g' : 'HNO3',\n",
    "        'm_NH3_g' : 'NH3',\n",
    "        'm_SO2_g' : 'SO2'\n",
    "    }\n",
    "    \n",
    "    # Load file into dataframe\n",
    "    dfin = pd.read_excel(datadir+chilbolton_filename2, sheet_name='April_May_2020')\n",
    "    \n",
    "    # Create new dataframe\n",
    "    df = pd.DataFrame()\n",
    "    \n",
    "    # Loop over requested species\n",
    "    for species in mapper:\n",
    "    \n",
    "        # Get measurement times and measured concentrations for current species\n",
    "        dfsp = dfin[dfin['parameter_id'] == species]\n",
    "        dfsp = dfsp[['measurement start date', 'measurement start time', 'measurement']]\n",
    "        \n",
    "        # Combine the time and date columns and convert to datetime format\n",
    "        dfsp['time'] = dfsp['measurement start date'].astype(str) + dfsp['measurement start time'].astype(str)\n",
    "        dfsp['time'] = pd.to_datetime(dfsp['time'], format='%Y-%m-%d%H:%M:%S')\n",
    "        \n",
    "        # Drop redundant columns\n",
    "        dfsp = dfsp.drop(columns=['measurement start date', 'measurement start time'])\n",
    "        \n",
    "        # Make time the index\n",
    "        dfsp = dfsp.set_index('time')\n",
    "        \n",
    "        # Add new column to dataframe \n",
    "        df[mapper[species]] = dfsp['measurement']\n",
    "        \n",
    "        # Replace missing value flags (-999 in this dataset) with NaN\n",
    "        mask = np.isclose(df[mapper[species]], -999.)\n",
    "        df.loc[mask, mapper[species]] = np.nan\n",
    "  \n",
    "    return df"
   ]
  },
  {
   "cell_type": "code",
   "execution_count": null,
   "metadata": {},
   "outputs": [],
   "source": [
    "def load_chilbolton_observatory():\n",
    "    \n",
    "    # Load January to March data\n",
    "    df = load_chilbolton_observatory1()\n",
    "    \n",
    "    # Load April to May data\n",
    "    df2 = load_chilbolton_observatory2()\n",
    "    \n",
    "    # Combine for a single timeseries\n",
    "    df = df.append(df2)\n",
    "    \n",
    "    return df"
   ]
  },
  {
   "cell_type": "markdown",
   "metadata": {},
   "source": [
    "# Load Chilbolton data and plot concentrations"
   ]
  },
  {
   "cell_type": "code",
   "execution_count": null,
   "metadata": {},
   "outputs": [],
   "source": [
    "df = load_chilbolton_observatory()\n",
    "df.plot()"
   ]
  },
  {
   "cell_type": "code",
   "execution_count": null,
   "metadata": {},
   "outputs": [],
   "source": []
  }
 ],
 "metadata": {
  "kernelspec": {
   "display_name": "default-current",
   "language": "python",
   "name": "default-current"
  },
  "language_info": {
   "codemirror_mode": {
    "name": "ipython",
    "version": 3
   },
   "file_extension": ".py",
   "mimetype": "text/x-python",
   "name": "python",
   "nbconvert_exporter": "python",
   "pygments_lexer": "ipython3",
   "version": "3.6.8"
  }
 },
 "nbformat": 4,
 "nbformat_minor": 2
}
